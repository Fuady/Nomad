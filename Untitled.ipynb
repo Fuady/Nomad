{
 "cells": [
  {
   "cell_type": "code",
   "execution_count": 23,
   "id": "60507f52-e536-4ffe-b4f1-e9fc0289bb5d",
   "metadata": {},
   "outputs": [],
   "source": [
    "import pandas as pd\n",
    "import time\n",
    "from webdriver_manager.chrome import ChromeDriverManager\n",
    "import matplotlib.pyplot as plt\n",
    "import os\n",
    "import logging\n",
    "\n",
    "from bs4 import BeautifulSoup\n",
    "import requests"
   ]
  },
  {
   "cell_type": "markdown",
   "id": "552df55b-03b3-40cd-9cfb-06874958d32f",
   "metadata": {},
   "source": [
    "## Create Driver"
   ]
  },
  {
   "cell_type": "code",
   "execution_count": 24,
   "id": "aed84e28-c32b-4b93-b37d-cdae711716eb",
   "metadata": {},
   "outputs": [],
   "source": [
    "url = \"https://nomadlist.com/lisbon\"\n",
    "page = requests.get(url)"
   ]
  },
  {
   "cell_type": "code",
   "execution_count": 26,
   "id": "366241e7-9119-4aa1-bfc7-fec4d4f421c5",
   "metadata": {},
   "outputs": [],
   "source": [
    "soup = BeautifulSoup(page.content, \"html.parser\")\n",
    "\n",
    "nomad_scores = soup.find_all(\"div\", attrs={\"class\": \"tab-ranking\"})[0]"
   ]
  },
  {
   "cell_type": "code",
   "execution_count": 28,
   "id": "83fdcd12-6cf0-4ae8-8cf7-ef082ea2a592",
   "metadata": {},
   "outputs": [],
   "source": [
    "keys = list(\n",
    "        map(lambda e: e.getText(), nomad_scores.find_all(\"td\", attrs={\"class\": \"key\"}))\n",
    "    )\n",
    "\n",
    "values = list(\n",
    "        map(\n",
    "            lambda e: e.getText(), nomad_scores.find_all(\"td\", attrs={\"class\": \"value\"})\n",
    "        )\n",
    "    )\n"
   ]
  },
  {
   "cell_type": "code",
   "execution_count": 32,
   "id": "d088f658-f26a-424b-b33c-c704eeb5d22f",
   "metadata": {},
   "outputs": [
    {
     "data": {
      "text/plain": [
       "'👍 Quality of life score'"
      ]
     },
     "execution_count": 32,
     "metadata": {},
     "output_type": "execute_result"
    }
   ],
   "source": []
  },
  {
   "cell_type": "code",
   "execution_count": null,
   "id": "06ed534d-35ab-4131-b0c6-8974a10abaab",
   "metadata": {},
   "outputs": [],
   "source": []
  }
 ],
 "metadata": {
  "kernelspec": {
   "display_name": "Python 3 (ipykernel)",
   "language": "python",
   "name": "python3"
  },
  "language_info": {
   "codemirror_mode": {
    "name": "ipython",
    "version": 3
   },
   "file_extension": ".py",
   "mimetype": "text/x-python",
   "name": "python",
   "nbconvert_exporter": "python",
   "pygments_lexer": "ipython3",
   "version": "3.9.6"
  }
 },
 "nbformat": 4,
 "nbformat_minor": 5
}
